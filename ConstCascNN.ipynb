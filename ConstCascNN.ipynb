{
 "cells": [
  {
   "cell_type": "markdown",
   "metadata": {},
   "source": [
    "# Constructive Cascading Neural Networks Implementations\n",
    "\n"
   ]
  },
  {
   "cell_type": "code",
   "execution_count": 2,
   "metadata": {},
   "outputs": [],
   "source": [
    "# import libraries\n",
    "import numpy as np\n",
    "import pandas as pd\n",
    "import torch\n",
    "import torch.nn.functional as F\n",
    "from torch.autograd import Variable"
   ]
  },
  {
   "cell_type": "markdown",
   "metadata": {},
   "source": [
    "#### Importing Dataset"
   ]
  },
  {
   "cell_type": "code",
   "execution_count": 3,
   "metadata": {},
   "outputs": [],
   "source": [
    "colnames = [\"fix1\", \"fix2\", \"fix3\", \"fix4\", \"recog\"]\n",
    "\n",
    "data_train = pd.read_csv(\"./dataset/fzis_training.csv\", header=None, names=colnames)\n",
    "data_test = pd.read_csv(\"./dataset/fzis_testing.csv\", header=None, names=colnames)\n",
    "\n",
    "X_train = pd.DataFrame(data_train.iloc[:,:-1])\n",
    "Y_train = pd.DataFrame(data_train[\"recog\"])\n",
    "\n",
    "X = Variable(torch.Tensor(X_train.to_numpy()).float())\n",
    "Y = Variable(torch.Tensor(Y_train.to_numpy()).long())\n"
   ]
  },
  {
   "cell_type": "markdown",
   "metadata": {},
   "source": [
    "### Input and Output definition"
   ]
  },
  {
   "cell_type": "code",
   "execution_count": 4,
   "metadata": {},
   "outputs": [],
   "source": [
    "dim_in = 4 #input dimension\n",
    "dim_out = 1 #output dimension\n",
    "dim_hid = 5 #initial hidden layer dimension\n",
    "\n",
    "dim_C = 3 #fixed cascading layer dimension\n",
    "\n",
    "varepochs = 100 #max number of epochs before adding casc layer (100 in technique paper)\n",
    "batch = 5 #batch size"
   ]
  },
  {
   "cell_type": "markdown",
   "metadata": {},
   "source": [
    "### Constructive Cascading NN"
   ]
  },
  {
   "cell_type": "code",
   "execution_count": 6,
   "metadata": {},
   "outputs": [],
   "source": [
    "class CCNNet(torch.nn.Module):\n",
    "    \n",
    "    def __init__(self, dim_in, dim_out, hid_lay=False):\n",
    "        super(N_Layer_Net, self).__init__()\n",
    "        self.dim_in = dim_in #input dimension\n",
    "        self.dim_hid = dim_hid #hidden layer dimension\n",
    "        self.dim_out = dim_out #output dimension\n",
    "        self.hid_lay = hid_lay\n",
    "        \n",
    "        self.hidl = None\n",
    "        self.outl = None\n",
    "        \n",
    "        if hid_lay == True:\n",
    "            self.hidl = torch.nn.Linear(dim_in, dim_hid) #initial hidden layer\n",
    "            self.outl = torch.nn.Linear(dim_hid, dim_out)\n",
    "        else:\n",
    "            self.outl = torch.nn.Linear(dim_in, dim_out)\n",
    "        \n",
    "        #Cascading Layers\n",
    "        self.casc_lays = torch.nn.ModuleList([]) #store cascading layers\n",
    "        self.cascl_size = [] #dimension of each cascading layer\n",
    "    \n",
    "    def forward(self, x):\n",
    "        \n",
    "        out = None\n",
    "        if hid_lay == True:\n",
    "            out = self.hidl(x)\n",
    "        \n",
    "        out = self.hidl(x)\n",
    "        out = F.tanh(out)\n",
    "        out = self.outl(out)\n",
    "        \n",
    "#         layer_in = np.empty(shape = self.nhidlays,\n",
    "#                            dtype = torch.Tensor)\n",
    "#         layer_out = np.empty(shape = self.nhidlays,\n",
    "#                              dtype = torch.Tensor)\n",
    "        \n",
    "#         for i in range(self.hid_lays.shape[0]):\n",
    "#             if i == 0:\n",
    "#                 layer_out[i] = x\n",
    "#             else:\n",
    "#                 layer_in[i] = F.sigmoid(layer_out[i-1])\n",
    "#                 layer_out[i] = self.hid_lays(layer_in[i])\n",
    "        \n",
    "#         hid_layer_output = self.hid_lays[-1](x)\n",
    "#         out_layer_input = F.sigmoid(hid_layer_output)\n",
    "#         out_layer_output = self.out_layer(out_layer_input)\n",
    "\n",
    "        return out_layer_output\n",
    "    \n",
    "    \n",
    "    def addCascLayer(self, size=1):\n",
    "        \"\"\"\n",
    "        add cascading layer to NN\n",
    "        \"\"\"\n",
    "        ind = 0 #store input dimension of new casc layer\n",
    "        outd = self.dim_out #output dimension of new casc layer\n",
    "        \n",
    "        if self.hid_lay == True:\n",
    "            ind = self.dim_in + self.dim_hid\n",
    "        else:\n",
    "            ind = self.dim_in\n",
    "        ind += sum(self.cascl_size)\n",
    "        \n",
    "        self.cascl_size = np.append(self.cascl_size, size) #add size of new casc layer to list\n",
    "        self.casc_lays.append(torch.nn.Linear(ind, outd)) #add casc layer to ModuleList\n",
    "        \n",
    "        return None\n"
   ]
  },
  {
   "cell_type": "markdown",
   "metadata": {},
   "source": [
    "### Pytorch Docs:\n",
    "* nn.ModuleList: https://pytorch.org/docs/stable/nn.html#modulelist"
   ]
  },
  {
   "cell_type": "code",
   "execution_count": null,
   "metadata": {},
   "outputs": [],
   "source": []
  },
  {
   "cell_type": "code",
   "execution_count": null,
   "metadata": {},
   "outputs": [],
   "source": []
  }
 ],
 "metadata": {
  "kernelspec": {
   "display_name": "Python 3",
   "language": "python",
   "name": "python3"
  },
  "language_info": {
   "codemirror_mode": {
    "name": "ipython",
    "version": 3
   },
   "file_extension": ".py",
   "mimetype": "text/x-python",
   "name": "python",
   "nbconvert_exporter": "python",
   "pygments_lexer": "ipython3",
   "version": "3.7.2"
  }
 },
 "nbformat": 4,
 "nbformat_minor": 2
}

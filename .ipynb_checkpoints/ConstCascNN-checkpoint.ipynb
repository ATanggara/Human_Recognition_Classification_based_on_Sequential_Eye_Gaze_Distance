{
 "cells": [
  {
   "cell_type": "markdown",
   "metadata": {},
   "source": [
    "# Constructive Cascading Neural Networks Implementations\n",
    "\n"
   ]
  },
  {
   "cell_type": "code",
   "execution_count": 1,
   "metadata": {},
   "outputs": [],
   "source": [
    "# import libraries\n",
    "import numpy as np\n",
    "import pandas as pd\n",
    "import torch\n",
    "import torch.nn.functional as F\n",
    "from torch.autograd import Variable"
   ]
  },
  {
   "cell_type": "markdown",
   "metadata": {},
   "source": [
    "#### Importing Dataset"
   ]
  },
  {
   "cell_type": "code",
   "execution_count": 18,
   "metadata": {},
   "outputs": [],
   "source": [
    "colnames = [\"fix1\", \"fix2\", \"fix3\", \"fix4\", \"recog\"]\n",
    "\n",
    "data_train = pd.read_csv(\"./dataset/fzis_training.csv\", header=None, names=colnames)\n",
    "data_test = pd.read_csv(\"./dataset/fzis_testing.csv\", header=None, names=colnames)\n",
    "\n",
    "X_train = pd.DataFrame(data_train.iloc[:,:-1])\n",
    "Y_train = pd.DataFrame(data_train[\"recog\"])\n",
    "\n",
    "X = Variable(torch.Tensor(X_train.to_numpy()).float())\n",
    "Y = Variable(torch.Tensor(Y_train.to_numpy()).long())\n"
   ]
  },
  {
   "cell_type": "markdown",
   "metadata": {},
   "source": [
    "### Input and Output definition"
   ]
  },
  {
   "cell_type": "code",
   "execution_count": null,
   "metadata": {},
   "outputs": [],
   "source": [
    "dim_in = 4 #input dimension\n",
    "dim_out = 1 #output dimension\n",
    "\n",
    "dim_C = 0 #cascading layer dimension\n",
    "\n"
   ]
  },
  {
   "cell_type": "code",
   "execution_count": null,
   "metadata": {},
   "outputs": [],
   "source": []
  },
  {
   "cell_type": "code",
   "execution_count": null,
   "metadata": {},
   "outputs": [],
   "source": []
  },
  {
   "cell_type": "code",
   "execution_count": null,
   "metadata": {},
   "outputs": [],
   "source": []
  }
 ],
 "metadata": {
  "kernelspec": {
   "display_name": "Python 3",
   "language": "python",
   "name": "python3"
  },
  "language_info": {
   "codemirror_mode": {
    "name": "ipython",
    "version": 3
   },
   "file_extension": ".py",
   "mimetype": "text/x-python",
   "name": "python",
   "nbconvert_exporter": "python",
   "pygments_lexer": "ipython3",
   "version": "3.7.2"
  }
 },
 "nbformat": 4,
 "nbformat_minor": 2
}

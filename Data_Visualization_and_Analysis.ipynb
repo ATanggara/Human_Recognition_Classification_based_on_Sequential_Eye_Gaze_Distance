{
 "cells": [
  {
   "cell_type": "markdown",
   "metadata": {},
   "source": [
    "# Data Visualization and Analysis\n",
    "### Human Image and Text Recognition Classification based on Sequential Human Eye-gaze\n"
   ]
  },
  {
   "cell_type": "markdown",
   "metadata": {},
   "source": [
    "#### Import libraries"
   ]
  },
  {
   "cell_type": "code",
   "execution_count": 19,
   "metadata": {},
   "outputs": [],
   "source": [
    "import pandas as pd\n",
    "import matplotlib.pyplot as plt"
   ]
  },
  {
   "cell_type": "markdown",
   "metadata": {},
   "source": [
    "## Import and Visualize Training and Test data"
   ]
  },
  {
   "cell_type": "code",
   "execution_count": 33,
   "metadata": {},
   "outputs": [],
   "source": [
    "colnames = [\"fix1\", \"fix2\", \"fix3\", \"fix4\", \"recog\"]\n",
    "\n",
    "data_train = pd.read_csv(\"./dataset/fzis_training.csv\", header=None, names=colnames)\n",
    "data_test = pd.read_csv(\"./dataset/fzis_testing.csv\", header=None, names=colnames)"
   ]
  },
  {
   "cell_type": "code",
   "execution_count": 34,
   "metadata": {},
   "outputs": [
    {
     "data": {
      "text/html": [
       "<div>\n",
       "<style scoped>\n",
       "    .dataframe tbody tr th:only-of-type {\n",
       "        vertical-align: middle;\n",
       "    }\n",
       "\n",
       "    .dataframe tbody tr th {\n",
       "        vertical-align: top;\n",
       "    }\n",
       "\n",
       "    .dataframe thead th {\n",
       "        text-align: right;\n",
       "    }\n",
       "</style>\n",
       "<table border=\"1\" class=\"dataframe\">\n",
       "  <thead>\n",
       "    <tr style=\"text-align: right;\">\n",
       "      <th></th>\n",
       "      <th>fix1</th>\n",
       "      <th>fix2</th>\n",
       "      <th>fix3</th>\n",
       "      <th>fix4</th>\n",
       "      <th>recog</th>\n",
       "    </tr>\n",
       "  </thead>\n",
       "  <tbody>\n",
       "    <tr>\n",
       "      <th>count</th>\n",
       "      <td>169.000000</td>\n",
       "      <td>169.000000</td>\n",
       "      <td>169.000000</td>\n",
       "      <td>169.000000</td>\n",
       "      <td>169.000000</td>\n",
       "    </tr>\n",
       "    <tr>\n",
       "      <th>mean</th>\n",
       "      <td>63.786982</td>\n",
       "      <td>63.893491</td>\n",
       "      <td>60.230769</td>\n",
       "      <td>60.467456</td>\n",
       "      <td>0.881657</td>\n",
       "    </tr>\n",
       "    <tr>\n",
       "      <th>std</th>\n",
       "      <td>85.556801</td>\n",
       "      <td>85.096797</td>\n",
       "      <td>85.964278</td>\n",
       "      <td>76.672699</td>\n",
       "      <td>0.323974</td>\n",
       "    </tr>\n",
       "    <tr>\n",
       "      <th>min</th>\n",
       "      <td>0.000000</td>\n",
       "      <td>1.000000</td>\n",
       "      <td>0.000000</td>\n",
       "      <td>0.000000</td>\n",
       "      <td>0.000000</td>\n",
       "    </tr>\n",
       "    <tr>\n",
       "      <th>25%</th>\n",
       "      <td>10.000000</td>\n",
       "      <td>13.000000</td>\n",
       "      <td>11.000000</td>\n",
       "      <td>14.000000</td>\n",
       "      <td>1.000000</td>\n",
       "    </tr>\n",
       "    <tr>\n",
       "      <th>50%</th>\n",
       "      <td>35.000000</td>\n",
       "      <td>38.000000</td>\n",
       "      <td>28.000000</td>\n",
       "      <td>32.000000</td>\n",
       "      <td>1.000000</td>\n",
       "    </tr>\n",
       "    <tr>\n",
       "      <th>75%</th>\n",
       "      <td>71.000000</td>\n",
       "      <td>79.000000</td>\n",
       "      <td>70.000000</td>\n",
       "      <td>85.000000</td>\n",
       "      <td>1.000000</td>\n",
       "    </tr>\n",
       "    <tr>\n",
       "      <th>max</th>\n",
       "      <td>551.000000</td>\n",
       "      <td>660.000000</td>\n",
       "      <td>652.000000</td>\n",
       "      <td>474.000000</td>\n",
       "      <td>1.000000</td>\n",
       "    </tr>\n",
       "  </tbody>\n",
       "</table>\n",
       "</div>"
      ],
      "text/plain": [
       "             fix1        fix2        fix3        fix4       recog\n",
       "count  169.000000  169.000000  169.000000  169.000000  169.000000\n",
       "mean    63.786982   63.893491   60.230769   60.467456    0.881657\n",
       "std     85.556801   85.096797   85.964278   76.672699    0.323974\n",
       "min      0.000000    1.000000    0.000000    0.000000    0.000000\n",
       "25%     10.000000   13.000000   11.000000   14.000000    1.000000\n",
       "50%     35.000000   38.000000   28.000000   32.000000    1.000000\n",
       "75%     71.000000   79.000000   70.000000   85.000000    1.000000\n",
       "max    551.000000  660.000000  652.000000  474.000000    1.000000"
      ]
     },
     "execution_count": 34,
     "metadata": {},
     "output_type": "execute_result"
    }
   ],
   "source": [
    "data_train.describe()"
   ]
  },
  {
   "cell_type": "code",
   "execution_count": 35,
   "metadata": {
    "scrolled": false
   },
   "outputs": [
    {
     "data": {
      "text/html": [
       "<div>\n",
       "<style scoped>\n",
       "    .dataframe tbody tr th:only-of-type {\n",
       "        vertical-align: middle;\n",
       "    }\n",
       "\n",
       "    .dataframe tbody tr th {\n",
       "        vertical-align: top;\n",
       "    }\n",
       "\n",
       "    .dataframe thead th {\n",
       "        text-align: right;\n",
       "    }\n",
       "</style>\n",
       "<table border=\"1\" class=\"dataframe\">\n",
       "  <thead>\n",
       "    <tr style=\"text-align: right;\">\n",
       "      <th></th>\n",
       "      <th>fix1</th>\n",
       "      <th>fix2</th>\n",
       "      <th>fix3</th>\n",
       "      <th>fix4</th>\n",
       "      <th>recog</th>\n",
       "    </tr>\n",
       "  </thead>\n",
       "  <tbody>\n",
       "    <tr>\n",
       "      <th>count</th>\n",
       "      <td>154.000000</td>\n",
       "      <td>154.000000</td>\n",
       "      <td>154.000000</td>\n",
       "      <td>154.000000</td>\n",
       "      <td>154.000000</td>\n",
       "    </tr>\n",
       "    <tr>\n",
       "      <th>mean</th>\n",
       "      <td>58.961039</td>\n",
       "      <td>42.253247</td>\n",
       "      <td>67.155844</td>\n",
       "      <td>57.188312</td>\n",
       "      <td>0.837662</td>\n",
       "    </tr>\n",
       "    <tr>\n",
       "      <th>std</th>\n",
       "      <td>77.026257</td>\n",
       "      <td>49.936635</td>\n",
       "      <td>82.157758</td>\n",
       "      <td>70.686158</td>\n",
       "      <td>0.369963</td>\n",
       "    </tr>\n",
       "    <tr>\n",
       "      <th>min</th>\n",
       "      <td>0.000000</td>\n",
       "      <td>0.000000</td>\n",
       "      <td>0.000000</td>\n",
       "      <td>0.000000</td>\n",
       "      <td>0.000000</td>\n",
       "    </tr>\n",
       "    <tr>\n",
       "      <th>25%</th>\n",
       "      <td>12.000000</td>\n",
       "      <td>13.250000</td>\n",
       "      <td>14.000000</td>\n",
       "      <td>11.000000</td>\n",
       "      <td>1.000000</td>\n",
       "    </tr>\n",
       "    <tr>\n",
       "      <th>50%</th>\n",
       "      <td>32.000000</td>\n",
       "      <td>33.000000</td>\n",
       "      <td>36.000000</td>\n",
       "      <td>29.500000</td>\n",
       "      <td>1.000000</td>\n",
       "    </tr>\n",
       "    <tr>\n",
       "      <th>75%</th>\n",
       "      <td>58.500000</td>\n",
       "      <td>44.750000</td>\n",
       "      <td>95.000000</td>\n",
       "      <td>67.500000</td>\n",
       "      <td>1.000000</td>\n",
       "    </tr>\n",
       "    <tr>\n",
       "      <th>max</th>\n",
       "      <td>527.000000</td>\n",
       "      <td>300.000000</td>\n",
       "      <td>420.000000</td>\n",
       "      <td>305.000000</td>\n",
       "      <td>1.000000</td>\n",
       "    </tr>\n",
       "  </tbody>\n",
       "</table>\n",
       "</div>"
      ],
      "text/plain": [
       "             fix1        fix2        fix3        fix4       recog\n",
       "count  154.000000  154.000000  154.000000  154.000000  154.000000\n",
       "mean    58.961039   42.253247   67.155844   57.188312    0.837662\n",
       "std     77.026257   49.936635   82.157758   70.686158    0.369963\n",
       "min      0.000000    0.000000    0.000000    0.000000    0.000000\n",
       "25%     12.000000   13.250000   14.000000   11.000000    1.000000\n",
       "50%     32.000000   33.000000   36.000000   29.500000    1.000000\n",
       "75%     58.500000   44.750000   95.000000   67.500000    1.000000\n",
       "max    527.000000  300.000000  420.000000  305.000000    1.000000"
      ]
     },
     "execution_count": 35,
     "metadata": {},
     "output_type": "execute_result"
    }
   ],
   "source": [
    "data_test.describe()"
   ]
  },
  {
   "cell_type": "markdown",
   "metadata": {},
   "source": [
    "### Data Meaning\n",
    "\n",
    "Each data-point indicates distances between the first five sequential fixation points of eye-gaze on an image or text document.\n",
    "\n",
    "There are 4 independent features and 1 dependent feature (target):  \n",
    "\n",
    "* Feature **fix$n$** is a _numeric_ variable of $\\mathbb{R}$.  \n",
    "    It indicates the distance between $n$-th fixation and $n+1$-th fixation. i.e: **fix2** is the distance between the 2-nd gaze fixation point and the 3-rd fixation point.  \n",
    "    It can be represented as the following equation\n",
    "    \\begin{align*}\n",
    "        \\text{fix}n = |y_{n} - y_{n+1}| \\;,\\; n \\in \\{1,2,3,4\\}\n",
    "    \\end{align*}  \n",
    "    \n",
    "* Target **recog** is a binary _class_ variable of $\\{0,1\\}$.  \n",
    "    It indicates whether the subject recognizes the image or text correctly.\n"
   ]
  },
  {
   "cell_type": "markdown",
   "metadata": {},
   "source": [
    "## Plot of Recognition on Fix Distances in Training Set"
   ]
  },
  {
   "cell_type": "code",
   "execution_count": 57,
   "metadata": {},
   "outputs": [
    {
     "data": {
      "image/png": "[encoded data removed]",
      "text/plain": [
       "<Figure size 324x234 with 1 Axes>"
      ]
     },
     "metadata": {
      "needs_background": "light"
     },
     "output_type": "display_data"
    },
    {
     "data": {
      "image/png": "[encoded data removed]",
      "text/plain": [
       "<Figure size 324x234 with 1 Axes>"
      ]
     },
     "metadata": {
      "needs_background": "light"
     },
     "output_type": "display_data"
    },
    {
     "data": {
      "image/png": "[encoded data removed]",
      "text/plain": [
       "<Figure size 324x234 with 1 Axes>"
      ]
     },
     "metadata": {
      "needs_background": "light"
     },
     "output_type": "display_data"
    },
    {
     "data": {
      "image/png": "[encoded data removed]",
      "text/plain": [
       "<Figure size 324x234 with 1 Axes>"
      ]
     },
     "metadata": {
      "needs_background": "light"
     },
     "output_type": "display_data"
    },
    {
     "data": {
      "image/png": "[encoded data removed]",
      "text/plain": [
       "<Figure size 324x234 with 1 Axes>"
      ]
     },
     "metadata": {
      "needs_background": "light"
     },
     "output_type": "display_data"
    },
    {
     "data": {
      "image/png": "[encoded data removed]",
      "text/plain": [
       "<Figure size 324x234 with 1 Axes>"
      ]
     },
     "metadata": {
      "needs_background": "light"
     },
     "output_type": "display_data"
    }
   ],
   "source": [
    "ones = data_train.loc[data_train['recog'] == 1] #dataframe of rows where recog==1 \n",
    "zeros = data_train.loc[data_train['recog'] == 0] #dataframe of rows where recog==0\n",
    "msize = 3**3 #scatter plot marker size\n",
    "\n",
    "for i in range(3):\n",
    "    for j in range(i, 3):\n",
    "        x = 'fix' + str(i+1)\n",
    "        y = 'fix' + str(j+2)\n",
    "\n",
    "        plt.figure(i, figsize=(4.5,3.25))\n",
    "        plt.title(x + \" and \" + y)\n",
    "        plt.xlabel(x)\n",
    "        plt.ylabel(y)\n",
    "        plt.scatter(ones[x], ones[y], c='b', label=\"ones\", s=msize)\n",
    "        plt.scatter(zeros[x], zeros[y], c='r', label=\"zeros\", s=msize)\n",
    "        plt.legend()\n",
    "        plt.show()\n"
   ]
  },
  {
   "cell_type": "markdown",
   "metadata": {},
   "source": [
    "### Classification Algorithms and Model\n",
    "\n",
    "Observing comparison of classification error (CLE) results obtained in Zhu et.al. (2008) on this dataset with Fuzzy Signature (FS) classification and Support Vector Machine with Linear Kernel (SVM) classification model, one can see that:  \n",
    "* the SVM model produced a lower CLE compared to FS model  \n",
    "\n",
    "**Hypotheses:**  \n",
    "\n",
    "1. This low error rate may be equally obtained with an Artificial Neural Network (ANN or NN) model with one hidden layer which can replicate the decision boundary created by the SVM model with Linear kernel.  \n",
    "    **to do:** implement one-hidden-layer ANN with linear activation function ($\\sigma$), calculate CLE, and visualize prediction (and decision boundary, if possible?).  \n",
    "\n",
    "With one of the target classes being concentrated in the region with small fixation distance values (i.e **fix$n$**),  \n",
    "\n",
    "2. a NN with more than 1 hidden layer may be able to capture the data with a higher accuracy compared to the Linear-kernel SVM, because multiple hidden layers of the NN can \"construct\" multiple linear decision boundaries, which can \"contain\" (in a visual sense) the class better.  \n",
    "    **to do:** implement two-hidden-layer ANN with linear $\\sigma$, calculate CLE, visualize prediction (and decision boundary)\n",
    "\n",
    "3. a single hidden-layer NN with a non-linear activation function may also be able to achieve at least the CLE of the Linear-kernel SVM, as the non-linearity can \"contain\" (in a visual sense)  \n",
    "    **to do:** implement (1) one-hidden-layer NN with Sigmoid $\\sigma$ and (2) two-hidden-layer NN with Sigmoid $\\sigma$, then calculate CLE, visualize prediction (and decision boundary) for both models.\n",
    "\n",
    "**Research task for each Hypothesis:**\n",
    "1. Look for research papers that support each hypothesis (i.e about number of layers and activation function)\n",
    "2. Look for references to help decide the number of neurons in the hidden layers.\n"
   ]
  },
  {
   "cell_type": "code",
   "execution_count": null,
   "metadata": {},
   "outputs": [],
   "source": []
  },
  {
   "cell_type": "code",
   "execution_count": null,
   "metadata": {},
   "outputs": [],
   "source": []
  },
  {
   "cell_type": "code",
   "execution_count": null,
   "metadata": {},
   "outputs": [],
   "source": []
  },
  {
   "cell_type": "markdown",
   "metadata": {},
   "source": [
    "### Bibliography\n",
    "\n",
    "1. Zhu, D., Mendis, B. S. U., Gedeon, T., Asthana, A., & Goecke, R. (2008, November). A hybrid fuzzy approach for human eye gaze pattern recognition. In International Conference on Neural Information Processing (pp. 655-662). Springer, Berlin, Heidelberg."
   ]
  }
 ],
 "metadata": {
  "kernelspec": {
   "display_name": "Python 3",
   "language": "python",
   "name": "python3"
  },
  "language_info": {
   "codemirror_mode": {
    "name": "ipython",
    "version": 3
   },
   "file_extension": ".py",
   "mimetype": "text/x-python",
   "name": "python",
   "nbconvert_exporter": "python",
   "pygments_lexer": "ipython3",
   "version": "3.7.2"
  }
 },
 "nbformat": 4,
 "nbformat_minor": 2
}
